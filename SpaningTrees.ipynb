{
 "cells": [
  {
   "cell_type": "code",
   "execution_count": 186,
   "metadata": {
    "collapsed": true
   },
   "outputs": [],
   "source": [
    "import copy"
   ]
  },
  {
   "cell_type": "code",
   "execution_count": null,
   "metadata": {},
   "outputs": [],
   "source": [
    "Takes in a weighted graph adn returns lsit of all edges in the graph in increasing order"
   ]
  },
  {
   "cell_type": "code",
   "execution_count": 187,
   "metadata": {},
   "outputs": [],
   "source": [
    "def edge_get(graph):\n",
    "    fin = []\n",
    "    weights = []\n",
    "    minw = 0\n",
    "    maxw = 0\n",
    "    \n",
    "    #Getting weights min & max\n",
    "    for key in graph:\n",
    "        for x in graph[key]:\n",
    "            if x[1] not in weights:\n",
    "                weights.append(x[1])\n",
    "            #Update max\n",
    "            if x[1] > maxw:\n",
    "                maxw = x[1]\n",
    "    weights.sort()\n",
    "    \n",
    "    #Run through weights\n",
    "    for w in weights:\n",
    "        for key in graph:\n",
    "            for x in graph[key]:\n",
    "                if x[1] == w:\n",
    "                    temp = [key, x[0]]\n",
    "                    temp.sort()\n",
    "                    if temp not in fin:\n",
    "                        fin.append(temp)\n",
    "    \n",
    "    return fin"
   ]
  },
  {
   "cell_type": "code",
   "execution_count": 188,
   "metadata": {
    "scrolled": true
   },
   "outputs": [
    {
     "data": {
      "text/plain": [
       "[['A', 'D'], ['A', 'B']]"
      ]
     },
     "execution_count": 188,
     "metadata": {},
     "output_type": "execute_result"
    }
   ],
   "source": [
    "edge_get({\"A\":[[\"B\", 10], [\"D\", 5]]})"
   ]
  },
  {
   "cell_type": "code",
   "execution_count": 189,
   "metadata": {},
   "outputs": [
    {
     "data": {
      "text/plain": [
       "[['A', 'D'], ['B', 'C'], ['A', 'B'], ['C', 'D']]"
      ]
     },
     "execution_count": 189,
     "metadata": {},
     "output_type": "execute_result"
    }
   ],
   "source": [
    "edge_get({\"A\":[[\"B\", 10], [\"D\", 5]], \"B\":[[\"A\", 10], [\"C\", 5]], \"C\":[[\"B\",5], [\"D\", 15]], \"D\":[[\"C\", 15], [\"A\", 5]]})"
   ]
  },
  {
   "cell_type": "markdown",
   "metadata": {
    "collapsed": true
   },
   "source": [
    "Takes in 3 inputs: main list whose elements are lists, and then two elements that each belong in exactly one of the lists in the main list. This method is to return a new main list of lists, in which the list containing elt1 and elt2 are merged if different and unaffected otherwise."
   ]
  },
  {
   "cell_type": "code",
   "execution_count": 190,
   "metadata": {
    "collapsed": true
   },
   "outputs": [],
   "source": [
    "def list_join(lst, elt1, elt2):\n",
    "    hold = []\n",
    "    fin = copy.deepcopy(lst)\n",
    "    \n",
    "    #Run through lists finding those with elt1 and 2\n",
    "    for l in fin:\n",
    "        for item in l:\n",
    "            if item == elt1 or item == elt2:\n",
    "                hold.append(l)\n",
    "                \n",
    "    #Make hold 1 list & remove repeats\n",
    "    temp = []\n",
    "    for l in hold:\n",
    "        for item in l:\n",
    "            temp.append(item)\n",
    "    hold = temp\n",
    "    temp = set(hold)\n",
    "    hold = list(temp)\n",
    "    \n",
    "    #Removing lists in original with elt1 and 2\n",
    "    temp = []\n",
    "    for x in fin:\n",
    "        in_list = True\n",
    "        for item in x:\n",
    "            if item == elt1 or item == elt2:\n",
    "                in_list = False\n",
    "        if in_list == True:\n",
    "            temp.append(x)\n",
    "    \n",
    "    #Inserting final list into original\n",
    "    hold.sort()\n",
    "    temp.insert(0, hold)\n",
    "    \n",
    "    return temp"
   ]
  },
  {
   "cell_type": "code",
   "execution_count": 191,
   "metadata": {},
   "outputs": [
    {
     "data": {
      "text/plain": [
       "[['A', 'B', 'D'], ['C'], ['E', 'F']]"
      ]
     },
     "execution_count": 191,
     "metadata": {},
     "output_type": "execute_result"
    }
   ],
   "source": [
    "list_join([[\"A\", \"B\"], [\"C\"], [\"D\"], [\"E\", \"F\"]], \"A\", \"D\")"
   ]
  },
  {
   "cell_type": "code",
   "execution_count": 192,
   "metadata": {},
   "outputs": [
    {
     "data": {
      "text/plain": [
       "[['A', 'B', 'E', 'F'], ['C'], ['D']]"
      ]
     },
     "execution_count": 192,
     "metadata": {},
     "output_type": "execute_result"
    }
   ],
   "source": [
    "list_join([[\"A\", \"B\"], [\"C\"], [\"D\"], [\"E\", \"F\"]], \"A\", \"E\")"
   ]
  },
  {
   "cell_type": "code",
   "execution_count": 193,
   "metadata": {},
   "outputs": [
    {
     "data": {
      "text/plain": [
       "[['C', 'D'], ['A', 'B'], ['E', 'F']]"
      ]
     },
     "execution_count": 193,
     "metadata": {},
     "output_type": "execute_result"
    }
   ],
   "source": [
    "list_join([[\"A\", \"B\"], [\"C\"], [\"D\"], [\"E\", \"F\"]], \"C\", \"D\")"
   ]
  },
  {
   "cell_type": "markdown",
   "metadata": {
    "collapsed": true
   },
   "source": [
    "Takes in a weighted graph and returns a list of edges that makes a min spanning tree in the order via Kruskal's algorithm."
   ]
  },
  {
   "cell_type": "code",
   "execution_count": 194,
   "metadata": {
    "collapsed": true
   },
   "outputs": [],
   "source": [
    "def min_kruskal(graph):\n",
    "    fin = []\n",
    "    v = 0\n",
    "    verts = []\n",
    "    check = []\n",
    "    \n",
    "    #Ordering the edges from edge_get small to large\n",
    "    temp = edge_get(graph)\n",
    "    \n",
    "    #Number of vertices\n",
    "    for key in graph:\n",
    "        v =+ 1\n",
    "        verts.append(list(key))\n",
    "        \n",
    "    #Will check for cycles    \n",
    "    check = copy.deepcopy(verts)\n",
    "    \n",
    "    #Adding edges to final, checking for cycles\n",
    "    for l in temp:\n",
    "        before = copy.deepcopy(check)\n",
    "        check = list_join(check, l[0], l[1])\n",
    "        if check != before:\n",
    "            fin.append(l)\n",
    "                \n",
    "    \n",
    "    return fin"
   ]
  },
  {
   "cell_type": "code",
   "execution_count": 195,
   "metadata": {},
   "outputs": [
    {
     "data": {
      "text/plain": [
       "[['A', 'D'], ['B', 'C'], ['A', 'B']]"
      ]
     },
     "execution_count": 195,
     "metadata": {},
     "output_type": "execute_result"
    }
   ],
   "source": [
    "min_kruskal({\"A\":[[\"B\",10],[\"D\",5]], \"B\":[[\"A\",10],[\"C\",5]], \"C\":[[\"B\",5],[\"D\",15]], \"D\":[[\"C\",15],[\"A\",5]]})"
   ]
  },
  {
   "cell_type": "code",
   "execution_count": 196,
   "metadata": {},
   "outputs": [
    {
     "data": {
      "text/plain": [
       "[['A', 'B'], ['A', 'D'], ['A', 'E'], ['B', 'C']]"
      ]
     },
     "execution_count": 196,
     "metadata": {},
     "output_type": "execute_result"
    }
   ],
   "source": [
    "min_kruskal({\"A\":[[\"B\",5],[\"D\",5],[\"E\",5]], \"B\":[[\"A\",5],[\"C\",10],[\"D\",15]], \"C\":[[\"B\",10],[\"D\",20]], \"D\":[[\"A\",5],[\"B\",15],[\"C\",20],[\"E\",10]], \"E\":[[\"A\",5],[\"D\",10]]})"
   ]
  },
  {
   "cell_type": "markdown",
   "metadata": {},
   "source": [
    "Takes in a weighted graph and returns a list of edges that make a min spanning tree in the order via Prim's algorithm."
   ]
  },
  {
   "cell_type": "code",
   "execution_count": 197,
   "metadata": {
    "collapsed": true
   },
   "outputs": [],
   "source": [
    "def min_prim(graph):\n",
    "    verts = []\n",
    "    before = []\n",
    "    fin = []\n",
    "\n",
    "    #Ordering edges small to large\n",
    "    order = edge_get(graph)\n",
    "    \n",
    "    #Add first edge and vertices\n",
    "    fin.append(order[0])\n",
    "    verts.append(order[0][0])\n",
    "    verts.append(order[0][1])\n",
    "    order.remove(order[0])\n",
    "    \n",
    "    #Iterate through order, add to fin\n",
    "    for x in order:\n",
    "        can_add = False\n",
    "        if x[0] in verts or x[1] in verts:\n",
    "            can_add = True\n",
    "        if x[0] in verts and x[1] in verts:\n",
    "            can_add = False\n",
    "        if can_add == True:\n",
    "            fin.append(x)\n",
    "            verts.append(x[0])\n",
    "            verts.append(x[1])\n",
    "            temp = set(verts)\n",
    "            verts = list(temp)\n",
    "            #print(verts)\n",
    "    \n",
    "    return fin"
   ]
  },
  {
   "cell_type": "code",
   "execution_count": 198,
   "metadata": {},
   "outputs": [
    {
     "data": {
      "text/plain": [
       "[['A', 'D'], ['A', 'B'], ['C', 'D']]"
      ]
     },
     "execution_count": 198,
     "metadata": {},
     "output_type": "execute_result"
    }
   ],
   "source": [
    "min_prim({\"A\":[[\"B\",10],[\"D\",5]], \"B\":[[\"A\",10],[\"C\",5]], \"C\":[[\"B\",5],[\"D\",15]], \"D\":[[\"C\",15],[\"A\",5]]})"
   ]
  },
  {
   "cell_type": "code",
   "execution_count": 199,
   "metadata": {},
   "outputs": [
    {
     "data": {
      "text/plain": [
       "[['A', 'B'], ['A', 'E'], ['B', 'D'], ['C', 'D']]"
      ]
     },
     "execution_count": 199,
     "metadata": {},
     "output_type": "execute_result"
    }
   ],
   "source": [
    "min_prim({\"A\":[[\"B\",5],[\"D\",20],[\"E\",5]], \"B\":[[\"A\",5],[\"C\",20],[\"D\",5]], \"C\":[[\"B\",20],[\"D\",5]], \"D\":[[\"A\",20],[\"B\",5],[\"C\",5],[\"E\",10]], \"E\":[[\"A\",5],[\"D\",10]]})"
   ]
  },
  {
   "cell_type": "code",
   "execution_count": null,
   "metadata": {
    "collapsed": true
   },
   "outputs": [],
   "source": []
  }
 ],
 "metadata": {
  "kernelspec": {
   "display_name": "Python 3",
   "language": "python",
   "name": "python3"
  },
  "language_info": {
   "codemirror_mode": {
    "name": "ipython",
    "version": 3
   },
   "file_extension": ".py",
   "mimetype": "text/x-python",
   "name": "python",
   "nbconvert_exporter": "python",
   "pygments_lexer": "ipython3",
   "version": "3.6.3"
  }
 },
 "nbformat": 4,
 "nbformat_minor": 2
}
